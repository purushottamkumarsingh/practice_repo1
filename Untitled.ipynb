{
 "cells": [
  {
   "cell_type": "code",
   "execution_count": 1,
   "id": "62364377-8970-4420-922c-b08287b4872b",
   "metadata": {},
   "outputs": [],
   "source": [
    "import pandas as pd \n",
    "import matplotlib.pyplot as plt\n",
    "import numpy as np\n",
    "import seaborn as sns\n"
   ]
  },
  {
   "cell_type": "code",
   "execution_count": 2,
   "id": "1fa627c1-af7a-45fe-8539-2ca262e886ce",
   "metadata": {},
   "outputs": [],
   "source": [
    "data =pd.read_excel(\"Sales-Dashboard-practice-file.xlsx\")"
   ]
  },
  {
   "cell_type": "code",
   "execution_count": 3,
   "id": "6dcb5ee2-79c8-4233-b921-89aaa2c8f149",
   "metadata": {},
   "outputs": [
    {
     "data": {
      "text/html": [
       "<div>\n",
       "<style scoped>\n",
       "    .dataframe tbody tr th:only-of-type {\n",
       "        vertical-align: middle;\n",
       "    }\n",
       "\n",
       "    .dataframe tbody tr th {\n",
       "        vertical-align: top;\n",
       "    }\n",
       "\n",
       "    .dataframe thead th {\n",
       "        text-align: right;\n",
       "    }\n",
       "</style>\n",
       "<table border=\"1\" class=\"dataframe\">\n",
       "  <thead>\n",
       "    <tr style=\"text-align: right;\">\n",
       "      <th></th>\n",
       "      <th>DATE</th>\n",
       "      <th>PRODUCT ID</th>\n",
       "      <th>QUANTITY</th>\n",
       "      <th>SALE TYPE</th>\n",
       "      <th>PAYMENT MODE</th>\n",
       "      <th>DISCOUNT %</th>\n",
       "    </tr>\n",
       "  </thead>\n",
       "  <tbody>\n",
       "    <tr>\n",
       "      <th>0</th>\n",
       "      <td>2021-01-01</td>\n",
       "      <td>P0024</td>\n",
       "      <td>9</td>\n",
       "      <td>Wholesaler</td>\n",
       "      <td>Online</td>\n",
       "      <td>0</td>\n",
       "    </tr>\n",
       "    <tr>\n",
       "      <th>1</th>\n",
       "      <td>2021-01-02</td>\n",
       "      <td>P0038</td>\n",
       "      <td>15</td>\n",
       "      <td>Online</td>\n",
       "      <td>Cash</td>\n",
       "      <td>0</td>\n",
       "    </tr>\n",
       "    <tr>\n",
       "      <th>2</th>\n",
       "      <td>2021-01-02</td>\n",
       "      <td>P0013</td>\n",
       "      <td>6</td>\n",
       "      <td>Direct Sales</td>\n",
       "      <td>Cash</td>\n",
       "      <td>0</td>\n",
       "    </tr>\n",
       "    <tr>\n",
       "      <th>3</th>\n",
       "      <td>2021-01-03</td>\n",
       "      <td>P0004</td>\n",
       "      <td>5</td>\n",
       "      <td>Direct Sales</td>\n",
       "      <td>Online</td>\n",
       "      <td>0</td>\n",
       "    </tr>\n",
       "    <tr>\n",
       "      <th>4</th>\n",
       "      <td>2021-01-04</td>\n",
       "      <td>P0035</td>\n",
       "      <td>12</td>\n",
       "      <td>Online</td>\n",
       "      <td>Online</td>\n",
       "      <td>0</td>\n",
       "    </tr>\n",
       "  </tbody>\n",
       "</table>\n",
       "</div>"
      ],
      "text/plain": [
       "        DATE PRODUCT ID  QUANTITY     SALE TYPE PAYMENT MODE  DISCOUNT %\n",
       "0 2021-01-01      P0024         9    Wholesaler       Online           0\n",
       "1 2021-01-02      P0038        15        Online         Cash           0\n",
       "2 2021-01-02      P0013         6  Direct Sales         Cash           0\n",
       "3 2021-01-03      P0004         5  Direct Sales       Online           0\n",
       "4 2021-01-04      P0035        12        Online       Online           0"
      ]
     },
     "execution_count": 3,
     "metadata": {},
     "output_type": "execute_result"
    }
   ],
   "source": [
    "data.head()"
   ]
  },
  {
   "cell_type": "code",
   "execution_count": 5,
   "id": "7563d6b5-3d10-4cbb-9c20-cccefeb4ebfa",
   "metadata": {},
   "outputs": [
    {
     "name": "stdout",
     "output_type": "stream",
     "text": [
      "<class 'pandas.core.frame.DataFrame'>\n"
     ]
    }
   ],
   "source": [
    "print(type(data))"
   ]
  },
  {
   "cell_type": "code",
   "execution_count": 6,
   "id": "dfb1c2c2-791f-4eed-80cd-a623cb31eaff",
   "metadata": {},
   "outputs": [
    {
     "data": {
      "text/plain": [
       "DATE            0\n",
       "PRODUCT ID      0\n",
       "QUANTITY        0\n",
       "SALE TYPE       0\n",
       "PAYMENT MODE    0\n",
       "DISCOUNT %      0\n",
       "dtype: int64"
      ]
     },
     "execution_count": 6,
     "metadata": {},
     "output_type": "execute_result"
    }
   ],
   "source": [
    "data.isnull().sum()"
   ]
  },
  {
   "cell_type": "code",
   "execution_count": 7,
   "id": "fdbec7e2-4d00-4e6d-8c4f-6ce3e2dad31d",
   "metadata": {},
   "outputs": [],
   "source": [
    "from sklearn.preprocessing import OneHotEncoder"
   ]
  },
  {
   "cell_type": "code",
   "execution_count": 8,
   "id": "ee4b2a49-0cfd-460c-858f-f41136d0ad28",
   "metadata": {},
   "outputs": [],
   "source": [
    "oh =OneHotEncoder()"
   ]
  },
  {
   "cell_type": "code",
   "execution_count": 9,
   "id": "dfa5316e-5ace-42c9-a35a-3e15b52a6cd2",
   "metadata": {},
   "outputs": [
    {
     "name": "stdout",
     "output_type": "stream",
     "text": [
      "   PAYMENT MODE_Card  PAYMENT MODE_Cash  PAYMENT MODE_UPI\n",
      "0                0.0                1.0               0.0\n",
      "1                1.0                0.0               0.0\n",
      "2                0.0                0.0               1.0\n",
      "3                0.0                1.0               0.0\n",
      "4                0.0                0.0               1.0\n"
     ]
    },
    {
     "name": "stderr",
     "output_type": "stream",
     "text": [
      "C:\\Users\\ravin\\anaconda3\\Lib\\site-packages\\sklearn\\preprocessing\\_encoders.py:868: FutureWarning: `sparse` was renamed to `sparse_output` in version 1.2 and will be removed in 1.4. `sparse_output` is ignored unless you leave `sparse` to its default value.\n",
      "  warnings.warn(\n"
     ]
    }
   ],
   "source": [
    "from sklearn.preprocessing import OneHotEncoder\n",
    "import pandas as pd\n",
    "\n",
    "# Sample data\n",
    "data = pd.DataFrame({\n",
    "    'PAYMENT MODE': ['Cash', 'Card', 'UPI', 'Cash', 'UPI']\n",
    "})\n",
    "\n",
    "# Reshape to 2D array (required by OneHotEncoder)\n",
    "oh = OneHotEncoder(sparse=False)  # set sparse=False to get array instead of sparse matrix\n",
    "encoded = oh.fit_transform(data[['PAYMENT MODE']])  # double brackets = 2D input\n",
    "\n",
    "# Get column names\n",
    "column_names = oh.get_feature_names_out(['PAYMENT MODE'])\n",
    "\n",
    "# Create a new DataFrame with encoded columns\n",
    "encoded_df = pd.DataFrame(encoded, columns=column_names)\n",
    "\n",
    "# Concatenate with original data (optional: drop original column)\n",
    "data = pd.concat([data.drop('PAYMENT MODE', axis=1), encoded_df], axis=1)\n",
    "\n",
    "print(data)\n"
   ]
  },
  {
   "cell_type": "code",
   "execution_count": 10,
   "id": "9278fcb6-465e-4f05-ac1b-d03efdc1d894",
   "metadata": {},
   "outputs": [
    {
     "data": {
      "text/html": [
       "<div>\n",
       "<style scoped>\n",
       "    .dataframe tbody tr th:only-of-type {\n",
       "        vertical-align: middle;\n",
       "    }\n",
       "\n",
       "    .dataframe tbody tr th {\n",
       "        vertical-align: top;\n",
       "    }\n",
       "\n",
       "    .dataframe thead th {\n",
       "        text-align: right;\n",
       "    }\n",
       "</style>\n",
       "<table border=\"1\" class=\"dataframe\">\n",
       "  <thead>\n",
       "    <tr style=\"text-align: right;\">\n",
       "      <th></th>\n",
       "      <th>PAYMENT MODE_Card</th>\n",
       "      <th>PAYMENT MODE_Cash</th>\n",
       "      <th>PAYMENT MODE_UPI</th>\n",
       "    </tr>\n",
       "  </thead>\n",
       "  <tbody>\n",
       "    <tr>\n",
       "      <th>0</th>\n",
       "      <td>0.0</td>\n",
       "      <td>1.0</td>\n",
       "      <td>0.0</td>\n",
       "    </tr>\n",
       "    <tr>\n",
       "      <th>1</th>\n",
       "      <td>1.0</td>\n",
       "      <td>0.0</td>\n",
       "      <td>0.0</td>\n",
       "    </tr>\n",
       "    <tr>\n",
       "      <th>2</th>\n",
       "      <td>0.0</td>\n",
       "      <td>0.0</td>\n",
       "      <td>1.0</td>\n",
       "    </tr>\n",
       "    <tr>\n",
       "      <th>3</th>\n",
       "      <td>0.0</td>\n",
       "      <td>1.0</td>\n",
       "      <td>0.0</td>\n",
       "    </tr>\n",
       "    <tr>\n",
       "      <th>4</th>\n",
       "      <td>0.0</td>\n",
       "      <td>0.0</td>\n",
       "      <td>1.0</td>\n",
       "    </tr>\n",
       "  </tbody>\n",
       "</table>\n",
       "</div>"
      ],
      "text/plain": [
       "   PAYMENT MODE_Card  PAYMENT MODE_Cash  PAYMENT MODE_UPI\n",
       "0                0.0                1.0               0.0\n",
       "1                1.0                0.0               0.0\n",
       "2                0.0                0.0               1.0\n",
       "3                0.0                1.0               0.0\n",
       "4                0.0                0.0               1.0"
      ]
     },
     "execution_count": 10,
     "metadata": {},
     "output_type": "execute_result"
    }
   ],
   "source": [
    "data.head()"
   ]
  },
  {
   "cell_type": "code",
   "execution_count": 11,
   "id": "7371a11b-674e-46fd-a2b5-daef2bd528c7",
   "metadata": {},
   "outputs": [
    {
     "name": "stderr",
     "output_type": "stream",
     "text": [
      "C:\\Users\\ravin\\anaconda3\\Lib\\site-packages\\seaborn\\_oldcore.py:1119: FutureWarning: use_inf_as_na option is deprecated and will be removed in a future version. Convert inf values to NaN before operating instead.\n",
      "  with pd.option_context('mode.use_inf_as_na', True):\n",
      "C:\\Users\\ravin\\anaconda3\\Lib\\site-packages\\seaborn\\_oldcore.py:1119: FutureWarning: use_inf_as_na option is deprecated and will be removed in a future version. Convert inf values to NaN before operating instead.\n",
      "  with pd.option_context('mode.use_inf_as_na', True):\n",
      "C:\\Users\\ravin\\anaconda3\\Lib\\site-packages\\seaborn\\_oldcore.py:1119: FutureWarning: use_inf_as_na option is deprecated and will be removed in a future version. Convert inf values to NaN before operating instead.\n",
      "  with pd.option_context('mode.use_inf_as_na', True):\n"
     ]
    },
    {
     "data": {
      "text/plain": [
       "<seaborn.axisgrid.PairGrid at 0x1ee3e069dd0>"
      ]
     },
     "execution_count": 11,
     "metadata": {},
     "output_type": "execute_result"
    },
    {
     "data": {
      "image/png": "[encoded data removed]",
      "text/plain": [
       "<Figure size 750x750 with 12 Axes>"
      ]
     },
     "metadata": {},
     "output_type": "display_data"
    }
   ],
   "source": [
    "sns.pairplot(data)"
   ]
  },
  {
   "cell_type": "code",
   "execution_count": null,
   "id": "39cbe189-7223-4028-acff-7a878aed9d48",
   "metadata": {},
   "outputs": [],
   "source": []
  }
 ],
 "metadata": {
  "kernelspec": {
   "display_name": "Python 3 (ipykernel)",
   "language": "python",
   "name": "python3"
  },
  "language_info": {
   "codemirror_mode": {
    "name": "ipython",
    "version": 3
   },
   "file_extension": ".py",
   "mimetype": "text/x-python",
   "name": "python",
   "nbconvert_exporter": "python",
   "pygments_lexer": "ipython3",
   "version": "3.11.7"
  }
 },
 "nbformat": 4,
 "nbformat_minor": 5
}
